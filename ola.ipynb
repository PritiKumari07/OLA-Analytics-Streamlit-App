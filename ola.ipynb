{
 "cells": [
  {
   "cell_type": "code",
   "execution_count": 34,
   "id": "26ee9c02",
   "metadata": {},
   "outputs": [],
   "source": [
    "import pandas as pd"
   ]
  },
  {
   "cell_type": "code",
   "execution_count": 35,
   "id": "f77f2510",
   "metadata": {},
   "outputs": [],
   "source": [
    "df=pd.read_excel('/Users/pritidwivedi/Downloads/OLA_DataSet.xlsx')"
   ]
  },
  {
   "cell_type": "code",
   "execution_count": 36,
   "id": "214ff00c",
   "metadata": {},
   "outputs": [
    {
     "data": {
      "text/html": [
       "<div>\n",
       "<style scoped>\n",
       "    .dataframe tbody tr th:only-of-type {\n",
       "        vertical-align: middle;\n",
       "    }\n",
       "\n",
       "    .dataframe tbody tr th {\n",
       "        vertical-align: top;\n",
       "    }\n",
       "\n",
       "    .dataframe thead th {\n",
       "        text-align: right;\n",
       "    }\n",
       "</style>\n",
       "<table border=\"1\" class=\"dataframe\">\n",
       "  <thead>\n",
       "    <tr style=\"text-align: right;\">\n",
       "      <th></th>\n",
       "      <th>Date</th>\n",
       "      <th>Time</th>\n",
       "      <th>Booking_ID</th>\n",
       "      <th>Booking_Status</th>\n",
       "      <th>Customer_ID</th>\n",
       "      <th>Vehicle_Type</th>\n",
       "      <th>Pickup_Location</th>\n",
       "      <th>Drop_Location</th>\n",
       "      <th>V_TAT</th>\n",
       "      <th>C_TAT</th>\n",
       "      <th>Canceled_Rides_by_Customer</th>\n",
       "      <th>Canceled_Rides_by_Driver</th>\n",
       "      <th>Incomplete_Rides</th>\n",
       "      <th>Incomplete_Rides_Reason</th>\n",
       "      <th>Booking_Value</th>\n",
       "      <th>Payment_Method</th>\n",
       "      <th>Ride_Distance</th>\n",
       "      <th>Driver_Ratings</th>\n",
       "      <th>Customer_Rating</th>\n",
       "      <th>Vehicle Images</th>\n",
       "    </tr>\n",
       "  </thead>\n",
       "  <tbody>\n",
       "    <tr>\n",
       "      <th>0</th>\n",
       "      <td>2024-07-26 14:00:00</td>\n",
       "      <td>14:00:00</td>\n",
       "      <td>CNR7153255142</td>\n",
       "      <td>Canceled by Driver</td>\n",
       "      <td>CID713523</td>\n",
       "      <td>Prime Sedan</td>\n",
       "      <td>Tumkur Road</td>\n",
       "      <td>RT Nagar</td>\n",
       "      <td>NaN</td>\n",
       "      <td>NaN</td>\n",
       "      <td>NaN</td>\n",
       "      <td>Personal &amp; Car related issue</td>\n",
       "      <td>NaN</td>\n",
       "      <td>NaN</td>\n",
       "      <td>444</td>\n",
       "      <td>NaN</td>\n",
       "      <td>0</td>\n",
       "      <td>NaN</td>\n",
       "      <td>NaN</td>\n",
       "      <td>https://cdn-icons-png.flaticon.com/128/14183/1...</td>\n",
       "    </tr>\n",
       "    <tr>\n",
       "      <th>1</th>\n",
       "      <td>2024-07-25 22:20:00</td>\n",
       "      <td>22:20:00</td>\n",
       "      <td>CNR2940424040</td>\n",
       "      <td>Success</td>\n",
       "      <td>CID225428</td>\n",
       "      <td>Bike</td>\n",
       "      <td>Magadi Road</td>\n",
       "      <td>Varthur</td>\n",
       "      <td>203.0</td>\n",
       "      <td>30.0</td>\n",
       "      <td>NaN</td>\n",
       "      <td>NaN</td>\n",
       "      <td>No</td>\n",
       "      <td>NaN</td>\n",
       "      <td>158</td>\n",
       "      <td>Cash</td>\n",
       "      <td>13</td>\n",
       "      <td>4.1</td>\n",
       "      <td>4.0</td>\n",
       "      <td>https://cdn-icons-png.flaticon.com/128/9983/99...</td>\n",
       "    </tr>\n",
       "    <tr>\n",
       "      <th>2</th>\n",
       "      <td>2024-07-30 19:59:00</td>\n",
       "      <td>19:59:00</td>\n",
       "      <td>CNR2982357879</td>\n",
       "      <td>Success</td>\n",
       "      <td>CID270156</td>\n",
       "      <td>Prime SUV</td>\n",
       "      <td>Sahakar Nagar</td>\n",
       "      <td>Varthur</td>\n",
       "      <td>238.0</td>\n",
       "      <td>130.0</td>\n",
       "      <td>NaN</td>\n",
       "      <td>NaN</td>\n",
       "      <td>No</td>\n",
       "      <td>NaN</td>\n",
       "      <td>386</td>\n",
       "      <td>UPI</td>\n",
       "      <td>40</td>\n",
       "      <td>4.2</td>\n",
       "      <td>4.8</td>\n",
       "      <td>https://cdn-icons-png.flaticon.com/128/9983/99...</td>\n",
       "    </tr>\n",
       "    <tr>\n",
       "      <th>3</th>\n",
       "      <td>2024-07-22 03:15:00</td>\n",
       "      <td>03:15:00</td>\n",
       "      <td>CNR2395710036</td>\n",
       "      <td>Canceled by Customer</td>\n",
       "      <td>CID581320</td>\n",
       "      <td>eBike</td>\n",
       "      <td>HSR Layout</td>\n",
       "      <td>Vijayanagar</td>\n",
       "      <td>NaN</td>\n",
       "      <td>NaN</td>\n",
       "      <td>Driver is not moving towards pickup location</td>\n",
       "      <td>NaN</td>\n",
       "      <td>NaN</td>\n",
       "      <td>NaN</td>\n",
       "      <td>384</td>\n",
       "      <td>NaN</td>\n",
       "      <td>0</td>\n",
       "      <td>NaN</td>\n",
       "      <td>NaN</td>\n",
       "      <td>https://cdn-icons-png.flaticon.com/128/6839/68...</td>\n",
       "    </tr>\n",
       "    <tr>\n",
       "      <th>4</th>\n",
       "      <td>2024-07-02 09:02:00</td>\n",
       "      <td>09:02:00</td>\n",
       "      <td>CNR1797421769</td>\n",
       "      <td>Success</td>\n",
       "      <td>CID939555</td>\n",
       "      <td>Mini</td>\n",
       "      <td>Rajajinagar</td>\n",
       "      <td>Chamarajpet</td>\n",
       "      <td>252.0</td>\n",
       "      <td>80.0</td>\n",
       "      <td>NaN</td>\n",
       "      <td>NaN</td>\n",
       "      <td>No</td>\n",
       "      <td>NaN</td>\n",
       "      <td>822</td>\n",
       "      <td>Credit Card</td>\n",
       "      <td>45</td>\n",
       "      <td>4.0</td>\n",
       "      <td>3.0</td>\n",
       "      <td>https://cdn-icons-png.flaticon.com/128/3202/32...</td>\n",
       "    </tr>\n",
       "  </tbody>\n",
       "</table>\n",
       "</div>"
      ],
      "text/plain": [
       "                 Date      Time     Booking_ID        Booking_Status  \\\n",
       "0 2024-07-26 14:00:00  14:00:00  CNR7153255142    Canceled by Driver   \n",
       "1 2024-07-25 22:20:00  22:20:00  CNR2940424040               Success   \n",
       "2 2024-07-30 19:59:00  19:59:00  CNR2982357879               Success   \n",
       "3 2024-07-22 03:15:00  03:15:00  CNR2395710036  Canceled by Customer   \n",
       "4 2024-07-02 09:02:00  09:02:00  CNR1797421769               Success   \n",
       "\n",
       "  Customer_ID Vehicle_Type Pickup_Location Drop_Location  V_TAT  C_TAT  \\\n",
       "0   CID713523  Prime Sedan     Tumkur Road      RT Nagar    NaN    NaN   \n",
       "1   CID225428         Bike     Magadi Road       Varthur  203.0   30.0   \n",
       "2   CID270156    Prime SUV   Sahakar Nagar       Varthur  238.0  130.0   \n",
       "3   CID581320        eBike      HSR Layout   Vijayanagar    NaN    NaN   \n",
       "4   CID939555         Mini     Rajajinagar   Chamarajpet  252.0   80.0   \n",
       "\n",
       "                     Canceled_Rides_by_Customer      Canceled_Rides_by_Driver  \\\n",
       "0                                           NaN  Personal & Car related issue   \n",
       "1                                           NaN                           NaN   \n",
       "2                                           NaN                           NaN   \n",
       "3  Driver is not moving towards pickup location                           NaN   \n",
       "4                                           NaN                           NaN   \n",
       "\n",
       "  Incomplete_Rides Incomplete_Rides_Reason  Booking_Value Payment_Method  \\\n",
       "0              NaN                     NaN            444            NaN   \n",
       "1               No                     NaN            158           Cash   \n",
       "2               No                     NaN            386            UPI   \n",
       "3              NaN                     NaN            384            NaN   \n",
       "4               No                     NaN            822    Credit Card   \n",
       "\n",
       "   Ride_Distance  Driver_Ratings  Customer_Rating  \\\n",
       "0              0             NaN              NaN   \n",
       "1             13             4.1              4.0   \n",
       "2             40             4.2              4.8   \n",
       "3              0             NaN              NaN   \n",
       "4             45             4.0              3.0   \n",
       "\n",
       "                                      Vehicle Images  \n",
       "0  https://cdn-icons-png.flaticon.com/128/14183/1...  \n",
       "1  https://cdn-icons-png.flaticon.com/128/9983/99...  \n",
       "2  https://cdn-icons-png.flaticon.com/128/9983/99...  \n",
       "3  https://cdn-icons-png.flaticon.com/128/6839/68...  \n",
       "4  https://cdn-icons-png.flaticon.com/128/3202/32...  "
      ]
     },
     "execution_count": 36,
     "metadata": {},
     "output_type": "execute_result"
    }
   ],
   "source": [
    "df.head()"
   ]
  },
  {
   "cell_type": "code",
   "execution_count": 37,
   "id": "225bc247",
   "metadata": {},
   "outputs": [
    {
     "data": {
      "text/plain": [
       "(103024, 20)"
      ]
     },
     "execution_count": 37,
     "metadata": {},
     "output_type": "execute_result"
    }
   ],
   "source": [
    "df.shape"
   ]
  },
  {
   "cell_type": "code",
   "execution_count": 38,
   "id": "c2506a64",
   "metadata": {},
   "outputs": [
    {
     "data": {
      "text/plain": [
       "Date                              0\n",
       "Time                              0\n",
       "Booking_ID                        0\n",
       "Booking_Status                    0\n",
       "Customer_ID                       0\n",
       "Vehicle_Type                      0\n",
       "Pickup_Location                   0\n",
       "Drop_Location                     0\n",
       "V_TAT                         39057\n",
       "C_TAT                         39057\n",
       "Canceled_Rides_by_Customer    92525\n",
       "Canceled_Rides_by_Driver      84590\n",
       "Incomplete_Rides              39057\n",
       "Incomplete_Rides_Reason       99098\n",
       "Booking_Value                     0\n",
       "Payment_Method                39057\n",
       "Ride_Distance                     0\n",
       "Driver_Ratings                39057\n",
       "Customer_Rating               39057\n",
       "Vehicle Images                    0\n",
       "dtype: int64"
      ]
     },
     "execution_count": 38,
     "metadata": {},
     "output_type": "execute_result"
    }
   ],
   "source": [
    "df.isnull().sum()"
   ]
  },
  {
   "cell_type": "code",
   "execution_count": 39,
   "id": "ab961574",
   "metadata": {},
   "outputs": [
    {
     "data": {
      "text/plain": [
       "np.int64(0)"
      ]
     },
     "execution_count": 39,
     "metadata": {},
     "output_type": "execute_result"
    }
   ],
   "source": [
    "df.duplicated().sum()"
   ]
  },
  {
   "cell_type": "code",
   "execution_count": 40,
   "id": "b55c4b7a",
   "metadata": {},
   "outputs": [],
   "source": [
    "df.drop([\"Vehicle Images\",\"Time\"], axis=1, inplace=True)"
   ]
  },
  {
   "cell_type": "code",
   "execution_count": 41,
   "id": "d50a4ac0",
   "metadata": {},
   "outputs": [
    {
     "data": {
      "text/html": [
       "<div>\n",
       "<style scoped>\n",
       "    .dataframe tbody tr th:only-of-type {\n",
       "        vertical-align: middle;\n",
       "    }\n",
       "\n",
       "    .dataframe tbody tr th {\n",
       "        vertical-align: top;\n",
       "    }\n",
       "\n",
       "    .dataframe thead th {\n",
       "        text-align: right;\n",
       "    }\n",
       "</style>\n",
       "<table border=\"1\" class=\"dataframe\">\n",
       "  <thead>\n",
       "    <tr style=\"text-align: right;\">\n",
       "      <th></th>\n",
       "      <th>Date</th>\n",
       "      <th>Booking_ID</th>\n",
       "      <th>Booking_Status</th>\n",
       "      <th>Customer_ID</th>\n",
       "      <th>Vehicle_Type</th>\n",
       "      <th>Pickup_Location</th>\n",
       "      <th>Drop_Location</th>\n",
       "      <th>V_TAT</th>\n",
       "      <th>C_TAT</th>\n",
       "      <th>Canceled_Rides_by_Customer</th>\n",
       "      <th>Canceled_Rides_by_Driver</th>\n",
       "      <th>Incomplete_Rides</th>\n",
       "      <th>Incomplete_Rides_Reason</th>\n",
       "      <th>Booking_Value</th>\n",
       "      <th>Payment_Method</th>\n",
       "      <th>Ride_Distance</th>\n",
       "      <th>Driver_Ratings</th>\n",
       "      <th>Customer_Rating</th>\n",
       "    </tr>\n",
       "  </thead>\n",
       "  <tbody>\n",
       "    <tr>\n",
       "      <th>0</th>\n",
       "      <td>2024-07-26 14:00:00</td>\n",
       "      <td>CNR7153255142</td>\n",
       "      <td>Canceled by Driver</td>\n",
       "      <td>CID713523</td>\n",
       "      <td>Prime Sedan</td>\n",
       "      <td>Tumkur Road</td>\n",
       "      <td>RT Nagar</td>\n",
       "      <td>NaN</td>\n",
       "      <td>NaN</td>\n",
       "      <td>NaN</td>\n",
       "      <td>Personal &amp; Car related issue</td>\n",
       "      <td>NaN</td>\n",
       "      <td>NaN</td>\n",
       "      <td>444</td>\n",
       "      <td>NaN</td>\n",
       "      <td>0</td>\n",
       "      <td>NaN</td>\n",
       "      <td>NaN</td>\n",
       "    </tr>\n",
       "    <tr>\n",
       "      <th>1</th>\n",
       "      <td>2024-07-25 22:20:00</td>\n",
       "      <td>CNR2940424040</td>\n",
       "      <td>Success</td>\n",
       "      <td>CID225428</td>\n",
       "      <td>Bike</td>\n",
       "      <td>Magadi Road</td>\n",
       "      <td>Varthur</td>\n",
       "      <td>203.0</td>\n",
       "      <td>30.0</td>\n",
       "      <td>NaN</td>\n",
       "      <td>NaN</td>\n",
       "      <td>No</td>\n",
       "      <td>NaN</td>\n",
       "      <td>158</td>\n",
       "      <td>Cash</td>\n",
       "      <td>13</td>\n",
       "      <td>4.1</td>\n",
       "      <td>4.0</td>\n",
       "    </tr>\n",
       "    <tr>\n",
       "      <th>2</th>\n",
       "      <td>2024-07-30 19:59:00</td>\n",
       "      <td>CNR2982357879</td>\n",
       "      <td>Success</td>\n",
       "      <td>CID270156</td>\n",
       "      <td>Prime SUV</td>\n",
       "      <td>Sahakar Nagar</td>\n",
       "      <td>Varthur</td>\n",
       "      <td>238.0</td>\n",
       "      <td>130.0</td>\n",
       "      <td>NaN</td>\n",
       "      <td>NaN</td>\n",
       "      <td>No</td>\n",
       "      <td>NaN</td>\n",
       "      <td>386</td>\n",
       "      <td>UPI</td>\n",
       "      <td>40</td>\n",
       "      <td>4.2</td>\n",
       "      <td>4.8</td>\n",
       "    </tr>\n",
       "    <tr>\n",
       "      <th>3</th>\n",
       "      <td>2024-07-22 03:15:00</td>\n",
       "      <td>CNR2395710036</td>\n",
       "      <td>Canceled by Customer</td>\n",
       "      <td>CID581320</td>\n",
       "      <td>eBike</td>\n",
       "      <td>HSR Layout</td>\n",
       "      <td>Vijayanagar</td>\n",
       "      <td>NaN</td>\n",
       "      <td>NaN</td>\n",
       "      <td>Driver is not moving towards pickup location</td>\n",
       "      <td>NaN</td>\n",
       "      <td>NaN</td>\n",
       "      <td>NaN</td>\n",
       "      <td>384</td>\n",
       "      <td>NaN</td>\n",
       "      <td>0</td>\n",
       "      <td>NaN</td>\n",
       "      <td>NaN</td>\n",
       "    </tr>\n",
       "    <tr>\n",
       "      <th>4</th>\n",
       "      <td>2024-07-02 09:02:00</td>\n",
       "      <td>CNR1797421769</td>\n",
       "      <td>Success</td>\n",
       "      <td>CID939555</td>\n",
       "      <td>Mini</td>\n",
       "      <td>Rajajinagar</td>\n",
       "      <td>Chamarajpet</td>\n",
       "      <td>252.0</td>\n",
       "      <td>80.0</td>\n",
       "      <td>NaN</td>\n",
       "      <td>NaN</td>\n",
       "      <td>No</td>\n",
       "      <td>NaN</td>\n",
       "      <td>822</td>\n",
       "      <td>Credit Card</td>\n",
       "      <td>45</td>\n",
       "      <td>4.0</td>\n",
       "      <td>3.0</td>\n",
       "    </tr>\n",
       "  </tbody>\n",
       "</table>\n",
       "</div>"
      ],
      "text/plain": [
       "                 Date     Booking_ID        Booking_Status Customer_ID  \\\n",
       "0 2024-07-26 14:00:00  CNR7153255142    Canceled by Driver   CID713523   \n",
       "1 2024-07-25 22:20:00  CNR2940424040               Success   CID225428   \n",
       "2 2024-07-30 19:59:00  CNR2982357879               Success   CID270156   \n",
       "3 2024-07-22 03:15:00  CNR2395710036  Canceled by Customer   CID581320   \n",
       "4 2024-07-02 09:02:00  CNR1797421769               Success   CID939555   \n",
       "\n",
       "  Vehicle_Type Pickup_Location Drop_Location  V_TAT  C_TAT  \\\n",
       "0  Prime Sedan     Tumkur Road      RT Nagar    NaN    NaN   \n",
       "1         Bike     Magadi Road       Varthur  203.0   30.0   \n",
       "2    Prime SUV   Sahakar Nagar       Varthur  238.0  130.0   \n",
       "3        eBike      HSR Layout   Vijayanagar    NaN    NaN   \n",
       "4         Mini     Rajajinagar   Chamarajpet  252.0   80.0   \n",
       "\n",
       "                     Canceled_Rides_by_Customer      Canceled_Rides_by_Driver  \\\n",
       "0                                           NaN  Personal & Car related issue   \n",
       "1                                           NaN                           NaN   \n",
       "2                                           NaN                           NaN   \n",
       "3  Driver is not moving towards pickup location                           NaN   \n",
       "4                                           NaN                           NaN   \n",
       "\n",
       "  Incomplete_Rides Incomplete_Rides_Reason  Booking_Value Payment_Method  \\\n",
       "0              NaN                     NaN            444            NaN   \n",
       "1               No                     NaN            158           Cash   \n",
       "2               No                     NaN            386            UPI   \n",
       "3              NaN                     NaN            384            NaN   \n",
       "4               No                     NaN            822    Credit Card   \n",
       "\n",
       "   Ride_Distance  Driver_Ratings  Customer_Rating  \n",
       "0              0             NaN              NaN  \n",
       "1             13             4.1              4.0  \n",
       "2             40             4.2              4.8  \n",
       "3              0             NaN              NaN  \n",
       "4             45             4.0              3.0  "
      ]
     },
     "execution_count": 41,
     "metadata": {},
     "output_type": "execute_result"
    }
   ],
   "source": [
    "df.head()"
   ]
  },
  {
   "cell_type": "code",
   "execution_count": 42,
   "id": "8398853c",
   "metadata": {},
   "outputs": [
    {
     "data": {
      "text/plain": [
       "array([ nan,  30., 130.,  80.,  90.,  40.,  55.,  95.,  35.,  70.,  25.,\n",
       "        65., 145., 105.,  50.,  60.,  85., 140.,  45., 120., 110., 135.,\n",
       "       115., 100.,  75., 125.])"
      ]
     },
     "execution_count": 42,
     "metadata": {},
     "output_type": "execute_result"
    }
   ],
   "source": [
    "df[\"C_TAT\"].unique()"
   ]
  },
  {
   "cell_type": "code",
   "execution_count": 43,
   "id": "5e443c32",
   "metadata": {},
   "outputs": [],
   "source": [
    "df.fillna({\"C_TAT\": df[\"C_TAT\"].mean()}, inplace=True)"
   ]
  },
  {
   "cell_type": "code",
   "execution_count": 44,
   "id": "faca7d62",
   "metadata": {},
   "outputs": [
    {
     "data": {
      "text/plain": [
       "array([ nan, 203., 238., 252., 231., 133.,  35., 126.,  70., 140.,  42.,\n",
       "       245.,  84., 168.,  56., 175., 189.,  49.,  77., 210., 287., 294.,\n",
       "       266., 217., 308.,  63.,  91., 196., 224., 280., 301., 161., 154.,\n",
       "       182., 259., 105.,  98., 147., 119., 273., 112.])"
      ]
     },
     "execution_count": 44,
     "metadata": {},
     "output_type": "execute_result"
    }
   ],
   "source": [
    "df[\"V_TAT\"].unique()"
   ]
  },
  {
   "cell_type": "code",
   "execution_count": 45,
   "id": "be7ad969",
   "metadata": {},
   "outputs": [],
   "source": [
    "df.fillna({\"V_TAT\": df[\"V_TAT\"].mean()}, inplace=True)"
   ]
  },
  {
   "cell_type": "code",
   "execution_count": 46,
   "id": "e7777785",
   "metadata": {},
   "outputs": [
    {
     "data": {
      "text/plain": [
       "Booking_Status\n",
       "Canceled by Customer    10499\n",
       "Canceled by Driver      18434\n",
       "Driver Not Found        10124\n",
       "Success                     0\n",
       "Name: Payment_Method, dtype: int64"
      ]
     },
     "execution_count": 46,
     "metadata": {},
     "output_type": "execute_result"
    }
   ],
   "source": [
    "a=df.groupby(['Booking_Status'])['Payment_Method'].apply(lambda x:x.isnull().sum())\n",
    "a\n"
   ]
  },
  {
   "cell_type": "code",
   "execution_count": 47,
   "id": "2c7b869a",
   "metadata": {},
   "outputs": [],
   "source": [
    "df[\"Payment_Method\"] = df[\"Payment_Method\"].fillna(df[\"Booking_Status\"].map({\n",
    "    \"Canceled by Driver\": \"Not Applicable\",\n",
    "    \"Canceled by Customer\": \"Not Applicable\",\n",
    "    \"Driver Not Found\": \"Not Applicable\"\n",
    "}))"
   ]
  },
  {
   "cell_type": "code",
   "execution_count": 48,
   "id": "f2c63ad9",
   "metadata": {},
   "outputs": [],
   "source": [
    "df[[\"Driver_Ratings\",\"Customer_Rating\", \"Incomplete_Rides\",\"Canceled_Rides_by_Driver\", \"Canceled_Rides_by_Customer\", \"Incomplete_Rides_Reason\"]]=df[[\"Driver_Ratings\",\"Customer_Rating\", \"Incomplete_Rides\",\"Canceled_Rides_by_Driver\", \"Canceled_Rides_by_Customer\", \"Incomplete_Rides_Reason\"]].fillna(\"Not Applicable\")"
   ]
  },
  {
   "cell_type": "code",
   "execution_count": 49,
   "id": "9232e3a5",
   "metadata": {},
   "outputs": [
    {
     "data": {
      "text/plain": [
       "Date                          0\n",
       "Booking_ID                    0\n",
       "Booking_Status                0\n",
       "Customer_ID                   0\n",
       "Vehicle_Type                  0\n",
       "Pickup_Location               0\n",
       "Drop_Location                 0\n",
       "V_TAT                         0\n",
       "C_TAT                         0\n",
       "Canceled_Rides_by_Customer    0\n",
       "Canceled_Rides_by_Driver      0\n",
       "Incomplete_Rides              0\n",
       "Incomplete_Rides_Reason       0\n",
       "Booking_Value                 0\n",
       "Payment_Method                0\n",
       "Ride_Distance                 0\n",
       "Driver_Ratings                0\n",
       "Customer_Rating               0\n",
       "dtype: int64"
      ]
     },
     "execution_count": 49,
     "metadata": {},
     "output_type": "execute_result"
    }
   ],
   "source": [
    "df.isnull().sum()"
   ]
  },
  {
   "cell_type": "code",
   "execution_count": 50,
   "id": "2346bafa",
   "metadata": {},
   "outputs": [],
   "source": [
    "df.to_excel('/Users/pritidwivedi/Downloads/OLA_Cleaned.xlsx', index=False)"
   ]
  }
 ],
 "metadata": {
  "kernelspec": {
   "display_name": "olacabs",
   "language": "python",
   "name": "python3"
  },
  "language_info": {
   "codemirror_mode": {
    "name": "ipython",
    "version": 3
   },
   "file_extension": ".py",
   "mimetype": "text/x-python",
   "name": "python",
   "nbconvert_exporter": "python",
   "pygments_lexer": "ipython3",
   "version": "3.12.7"
  }
 },
 "nbformat": 4,
 "nbformat_minor": 5
}
